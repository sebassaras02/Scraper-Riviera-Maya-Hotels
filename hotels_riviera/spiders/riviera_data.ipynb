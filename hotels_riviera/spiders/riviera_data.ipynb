{
 "cells": [
  {
   "cell_type": "code",
   "execution_count": 1,
   "metadata": {
    "collapsed": true
   },
   "outputs": [],
   "source": [
    "import scrapy"
   ]
  },
  {
   "cell_type": "code",
   "execution_count": 1,
   "outputs": [
    {
     "ename": "NameError",
     "evalue": "name 'scrapy' is not defined",
     "output_type": "error",
     "traceback": [
      "\u001B[1;31m---------------------------------------------------------------------------\u001B[0m",
      "\u001B[1;31mNameError\u001B[0m                                 Traceback (most recent call last)",
      "Cell \u001B[1;32mIn [1], line 1\u001B[0m\n\u001B[1;32m----> 1\u001B[0m \u001B[38;5;28;01mclass\u001B[39;00m \u001B[38;5;21;01mRiviera\u001B[39;00m(\u001B[43mscrapy\u001B[49m\u001B[38;5;241m.\u001B[39mSpider):\n\u001B[0;32m      2\u001B[0m     name \u001B[38;5;241m=\u001B[39m \u001B[38;5;124m'\u001B[39m\u001B[38;5;124mriviera\u001B[39m\u001B[38;5;124m'\u001B[39m\n\u001B[0;32m      3\u001B[0m     start_urls \u001B[38;5;241m=\u001B[39m [\u001B[38;5;124m'\u001B[39m\u001B[38;5;124mhttp://rivieramaya.org.mx/hoteles/\u001B[39m\u001B[38;5;124m'\u001B[39m]\n",
      "\u001B[1;31mNameError\u001B[0m: name 'scrapy' is not defined"
     ]
    }
   ],
   "source": [
    "class Merli(scrapy.Spider):\n",
    "    name = 'riviera'\n",
    "    start_urls = ['http://rivieramaya.org.mx/hoteles/']\n",
    "    custom_settings = {\n",
    "        'FEED_URI': 'riviera.json',\n",
    "        'FEED_FORMAT': 'json',\n",
    "        'FEED_EXPORT_ENCODING': 'utf-8',\n",
    "        'ROBOTSTXT_OBEY': True,\n",
    "    }\n",
    "\n",
    "    LINK_POST = '//h2[@class = \"entry-title\"]/a/@href'\n",
    "    NEW_PAGE_BOTTON = '//div[@class = \"wp-pagenavi\"]/a[@class = \"nextpostslink\"]/@href'\n",
    "\n",
    "\n",
    "    def parse(self, response):\n",
    "        links_post = response.xpath(self.LINK_POST).getall()\n",
    "        yield {'links': links_post}\n",
    "\n",
    "        next_page_button_link = response.xpath(self.NEW_PAGE_BOTTON).get()\n",
    "\n",
    "        if next_page_button_link:\n",
    "            yield response.follow(next_page_button_link, callback=self.parse)"
   ],
   "metadata": {
    "collapsed": false
   }
  },
  {
   "cell_type": "code",
   "execution_count": 3,
   "outputs": [],
   "source": [
    "from scrapy.crawler import  CrawlerProcess"
   ],
   "metadata": {
    "collapsed": false
   }
  },
  {
   "cell_type": "code",
   "execution_count": 4,
   "outputs": [
    {
     "name": "stderr",
     "output_type": "stream",
     "text": [
      "2022-10-21 10:54:58 [scrapy.utils.log] INFO: Scrapy 2.7.0 started (bot: scrapybot)\n",
      "2022-10-21 10:54:58 [scrapy.utils.log] INFO: Versions: lxml 4.9.1.0, libxml2 2.9.12, cssselect 1.1.0, parsel 1.6.0, w3lib 2.0.1, Twisted 22.8.0, Python 3.10.7 (tags/v3.10.7:6cc6b13, Sep  5 2022, 14:08:36) [MSC v.1933 64 bit (AMD64)], pyOpenSSL 22.1.0 (OpenSSL 3.0.5 5 Jul 2022), cryptography 38.0.1, Platform Windows-10-10.0.19043-SP0\n",
      "2022-10-21 10:54:58 [scrapy.crawler] INFO: Overridden settings:\n",
      "{'FEED_EXPORT_ENCODING': 'utf-8',\n",
      " 'ROBOTSTXT_OBEY': True,\n",
      " 'USER_AGENT': 'Mozilla/4.0 (compatible; MSIE 7.0; Windows NT 5.1)'}\n",
      "2022-10-21 10:54:58 [py.warnings] WARNING: D:\\Platzi\\Web-scraping-Xpath\\venv\\lib\\site-packages\\scrapy\\utils\\request.py:231: ScrapyDeprecationWarning: '2.6' is a deprecated value for the 'REQUEST_FINGERPRINTER_IMPLEMENTATION' setting.\n",
      "\n",
      "It is also the default value. In other words, it is normal to get this warning if you have not defined a value for the 'REQUEST_FINGERPRINTER_IMPLEMENTATION' setting. This is so for backward compatibility reasons, but it will change in a future version of Scrapy.\n",
      "\n",
      "See the documentation of the 'REQUEST_FINGERPRINTER_IMPLEMENTATION' setting for information on how to handle this deprecation.\n",
      "  return cls(crawler)\n",
      "\n",
      "2022-10-21 10:54:58 [scrapy.utils.log] DEBUG: Using reactor: twisted.internet.selectreactor.SelectReactor\n",
      "2022-10-21 10:54:58 [scrapy.extensions.telnet] INFO: Telnet Password: 43a7812db1e0d740\n",
      "2022-10-21 10:54:58 [py.warnings] WARNING: D:\\Platzi\\Web-scraping-Xpath\\venv\\lib\\site-packages\\scrapy\\extensions\\feedexport.py:289: ScrapyDeprecationWarning: The `FEED_URI` and `FEED_FORMAT` settings have been deprecated in favor of the `FEEDS` setting. Please see the `FEEDS` setting docs for more details\n",
      "  exporter = cls(crawler)\n",
      "\n",
      "2022-10-21 10:54:59 [scrapy.middleware] INFO: Enabled extensions:\n",
      "['scrapy.extensions.corestats.CoreStats',\n",
      " 'scrapy.extensions.telnet.TelnetConsole',\n",
      " 'scrapy.extensions.feedexport.FeedExporter',\n",
      " 'scrapy.extensions.logstats.LogStats']\n",
      "2022-10-21 10:54:59 [scrapy.middleware] INFO: Enabled downloader middlewares:\n",
      "['scrapy.downloadermiddlewares.robotstxt.RobotsTxtMiddleware',\n",
      " 'scrapy.downloadermiddlewares.httpauth.HttpAuthMiddleware',\n",
      " 'scrapy.downloadermiddlewares.downloadtimeout.DownloadTimeoutMiddleware',\n",
      " 'scrapy.downloadermiddlewares.defaultheaders.DefaultHeadersMiddleware',\n",
      " 'scrapy.downloadermiddlewares.useragent.UserAgentMiddleware',\n",
      " 'scrapy.downloadermiddlewares.retry.RetryMiddleware',\n",
      " 'scrapy.downloadermiddlewares.redirect.MetaRefreshMiddleware',\n",
      " 'scrapy.downloadermiddlewares.httpcompression.HttpCompressionMiddleware',\n",
      " 'scrapy.downloadermiddlewares.redirect.RedirectMiddleware',\n",
      " 'scrapy.downloadermiddlewares.cookies.CookiesMiddleware',\n",
      " 'scrapy.downloadermiddlewares.httpproxy.HttpProxyMiddleware',\n",
      " 'scrapy.downloadermiddlewares.stats.DownloaderStats']\n",
      "2022-10-21 10:54:59 [scrapy.middleware] INFO: Enabled spider middlewares:\n",
      "['scrapy.spidermiddlewares.httperror.HttpErrorMiddleware',\n",
      " 'scrapy.spidermiddlewares.offsite.OffsiteMiddleware',\n",
      " 'scrapy.spidermiddlewares.referer.RefererMiddleware',\n",
      " 'scrapy.spidermiddlewares.urllength.UrlLengthMiddleware',\n",
      " 'scrapy.spidermiddlewares.depth.DepthMiddleware']\n",
      "2022-10-21 10:54:59 [scrapy.middleware] INFO: Enabled item pipelines:\n",
      "[]\n",
      "2022-10-21 10:54:59 [scrapy.core.engine] INFO: Spider opened\n",
      "2022-10-21 10:54:59 [scrapy.extensions.logstats] INFO: Crawled 0 pages (at 0 pages/min), scraped 0 items (at 0 items/min)\n",
      "2022-10-21 10:54:59 [scrapy.extensions.telnet] INFO: Telnet console listening on 127.0.0.1:6023\n",
      "2022-10-21 10:55:00 [scrapy.core.engine] DEBUG: Crawled (200) <GET http://rivieramaya.org.mx/robots.txt> (referer: None)\n",
      "2022-10-21 10:55:01 [scrapy.core.engine] DEBUG: Crawled (200) <GET http://rivieramaya.org.mx/hoteles/> (referer: None)\n",
      "2022-10-21 10:55:01 [scrapy.core.scraper] DEBUG: Scraped from <200 http://rivieramaya.org.mx/hoteles/>\r\n",
      "{'links': ['http://rivieramaya.org.mx/all-riviera-resort/', 'http://rivieramaya.org.mx/allegro-playacar/', 'http://rivieramaya.org.mx/ana-y-jose-hotel-spa/', 'http://rivieramaya.org.mx/azul-beach-resort-riviera-maya/', 'http://rivieramaya.org.mx/5-banyan-tree-mayakoba/', 'http://rivieramaya.org.mx/6-barcelo-maya-caribe/', 'http://rivieramaya.org.mx/7-barcelo-maya-colonial/', 'http://rivieramaya.org.mx/8-barcelo-maya-palace-deluxe/', 'http://rivieramaya.org.mx/9-barcelo-maya-tropical/', 'http://rivieramaya.org.mx/10-barcelo-maya-tropical-beach/', 'http://rivieramaya.org.mx/11-barrio-latino-hotel/', 'http://rivieramaya.org.mx/12-belmond-maroma-resort-spa/', 'http://rivieramaya.org.mx/13-blue-bay-grand-esmeralda/', 'http://rivieramaya.org.mx/14-blue-diamond-riviera-maya/', 'http://rivieramaya.org.mx/15-calixta-hotel-boutique/']}\n",
      "2022-10-21 10:55:01 [scrapy.core.engine] DEBUG: Crawled (200) <GET http://rivieramaya.org.mx/hoteles/page/2/?et_blog> (referer: http://rivieramaya.org.mx/hoteles/)\n",
      "2022-10-21 10:55:01 [scrapy.core.scraper] DEBUG: Scraped from <200 http://rivieramaya.org.mx/hoteles/page/2/?et_blog>\r\n",
      "{'links': ['http://rivieramaya.org.mx/16-catalonia-playa-maroma/', 'http://rivieramaya.org.mx/17-catalonia-riviera-maya/', 'http://rivieramaya.org.mx/18-catalonia-royal-tulum/', 'http://rivieramaya.org.mx/19-catalonia-yucatan-beach/', 'http://rivieramaya.org.mx/20-city-express-playa-del-carmen/', 'http://rivieramaya.org.mx/21-coco-rio/', 'http://rivieramaya.org.mx/22-condo-hotel-riviera-maya-suites/', 'http://rivieramaya.org.mx/23-dorado-maroma/', 'http://rivieramaya.org.mx/24-dreams-puerto-aventuras/', 'http://rivieramaya.org.mx/25-el-acuario-hotel/', 'http://rivieramaya.org.mx/26-el-dorado-casitas-royale/', 'http://rivieramaya.org.mx/31gran-palladium-colonial-resorts-spa/', 'http://rivieramaya.org.mx/27-el-dorado-generations-riviera-maya/', 'http://rivieramaya.org.mx/32-grand-bahia-principe-tulum-akumal/', 'http://rivieramaya.org.mx/33-grand-fifty-suites/']}\n",
      "2022-10-21 10:55:01 [scrapy.core.engine] DEBUG: Crawled (200) <GET http://rivieramaya.org.mx/hoteles/page/3/?et_blog> (referer: http://rivieramaya.org.mx/hoteles/page/2/?et_blog)\n",
      "2022-10-21 10:55:01 [scrapy.core.scraper] DEBUG: Scraped from <200 http://rivieramaya.org.mx/hoteles/page/3/?et_blog>\r\n",
      "{'links': ['http://rivieramaya.org.mx/28-el-dorado-royale-spa-resort/', 'http://rivieramaya.org.mx/34-grand-luxxe/', 'http://rivieramaya.org.mx/29-el-dorado-seaside-suites/', 'http://rivieramaya.org.mx/35-grand-luxxe-grupo-vidanta/', 'http://rivieramaya.org.mx/36-grand-palladium-kantenah/', 'http://rivieramaya.org.mx/37-grand-palladium-riviera-resorts-spa/', 'http://rivieramaya.org.mx/30-family-club-princess/', 'http://rivieramaya.org.mx/38-grand-palladium-the-royal-suites-yucatan/', 'http://rivieramaya.org.mx/39-grand-palladium-white-sand-resorts-spa/', 'http://rivieramaya.org.mx/40-grand-riviera-princess/', 'http://rivieramaya.org.mx/41-grand-sirenis-maya-beach/', 'http://rivieramaya.org.mx/42-grand-sirenis-riviera-maya/', 'http://rivieramaya.org.mx/43-grand-sunset-princess/', 'http://rivieramaya.org.mx/grand-sunset-princess/', 'http://rivieramaya.org.mx/45-grand-velas-riviera-maya/']}\n",
      "2022-10-21 10:55:01 [scrapy.core.engine] DEBUG: Crawled (200) <GET http://rivieramaya.org.mx/hoteles/page/4/?et_blog> (referer: http://rivieramaya.org.mx/hoteles/page/3/?et_blog)\n",
      "2022-10-21 10:55:02 [scrapy.core.scraper] DEBUG: Scraped from <200 http://rivieramaya.org.mx/hoteles/page/4/?et_blog>\r\n",
      "{'links': ['http://rivieramaya.org.mx/46-hacienda-paradise/', 'http://rivieramaya.org.mx/47-hacienda-tres-rios-resort-spa-nature-park/', 'http://rivieramaya.org.mx/48-hard-rock-hotel-riviera-maya/', 'http://rivieramaya.org.mx/49-hacienda-hidden-beach-resort/', 'http://rivieramaya.org.mx/50-hilton-playa-del-carmen/', 'http://rivieramaya.org.mx/51-hotel-aspira/', 'http://rivieramaya.org.mx/52-hotel-aventura-mexicana/', 'http://rivieramaya.org.mx/53-hotel-blue-diamond-by-blue-bay/', 'http://rivieramaya.org.mx/54-hotel-chable-maroma/', 'http://rivieramaya.org.mx/55-hotel-colibri-beach/', 'http://rivieramaya.org.mx/56-hotel-esencia/', 'http://rivieramaya.org.mx/57-hotel-fairmont-mayakoba/', 'http://rivieramaya.org.mx/58-hotel-hm-playa-del-carmen/', 'http://rivieramaya.org.mx/59-hotel-holiday-inn-express-suites/', 'http://rivieramaya.org.mx/60-hotel-hul-ku/']}\n",
      "2022-10-21 10:55:02 [scrapy.core.engine] DEBUG: Crawled (200) <GET http://rivieramaya.org.mx/hoteles/page/5/?et_blog> (referer: http://rivieramaya.org.mx/hoteles/page/4/?et_blog)\n",
      "2022-10-21 10:55:02 [scrapy.core.scraper] DEBUG: Scraped from <200 http://rivieramaya.org.mx/hoteles/page/5/?et_blog>\r\n",
      "{'links': ['http://rivieramaya.org.mx/61-hotel-labnah/', 'http://rivieramaya.org.mx/62-hotel-le-reve-spa/', 'http://rivieramaya.org.mx/63-hotel-lunasol/', 'http://rivieramaya.org.mx/64-hotel-nautilus/', 'http://rivieramaya.org.mx/65-hotel-nina-beach-club/', 'http://rivieramaya.org.mx/66-hotel-pavo-real-beach-resort-tulum/', 'http://rivieramaya.org.mx/67-hotel-plaza-playa/', 'http://rivieramaya.org.mx/68-hotel-quinto-sol/', 'http://rivieramaya.org.mx/69-hotel-tukan-beach-club/', 'http://rivieramaya.org.mx/70-hotel-xcaret-mexico/', 'http://rivieramaya.org.mx/71-iberostar-grand-paraiso/', 'http://rivieramaya.org.mx/72-iberostar-paraiso-beach/', 'http://rivieramaya.org.mx/73-iberostar-paraiso-del-mar/', 'http://rivieramaya.org.mx/74-iberostar-paraiso-lindo/', 'http://rivieramaya.org.mx/75-iberostar-paraiso-maya/']}\n",
      "2022-10-21 10:55:02 [scrapy.core.engine] DEBUG: Crawled (200) <GET http://rivieramaya.org.mx/hoteles/page/6/?et_blog> (referer: http://rivieramaya.org.mx/hoteles/page/5/?et_blog)\n",
      "2022-10-21 10:55:02 [scrapy.core.scraper] DEBUG: Scraped from <200 http://rivieramaya.org.mx/hoteles/page/6/?et_blog>\r\n",
      "{'links': ['http://rivieramaya.org.mx/76-iberostar-playa-paraiso/', 'http://rivieramaya.org.mx/77-iberostar-quetzal-tucan/', 'http://rivieramaya.org.mx/78-illusion-boutique-hotel/', 'http://rivieramaya.org.mx/79-kin-sol-soleil/', 'http://rivieramaya.org.mx/80-kinbe/', 'http://rivieramaya.org.mx/81-las-golondrinas/', 'http://rivieramaya.org.mx/82-las-villas-akumal/', 'http://rivieramaya.org.mx/83-lat-20-by-live-aqua/', 'http://rivieramaya.org.mx/84-live-aqua-boutique-resort/', 'http://rivieramaya.org.mx/85-luxury-bahia-principe-sian-kaan/', 'http://rivieramaya.org.mx/86-luxury-bahia-principe-coba/', 'http://rivieramaya.org.mx/87-mahekal-beach-resort/', 'http://rivieramaya.org.mx/88-maroma-resort-spa-by-orient-express/', 'http://rivieramaya.org.mx/89-marquee-playa-hotel/', 'http://rivieramaya.org.mx/90-maya-bric/']}\n",
      "2022-10-21 10:55:02 [scrapy.core.engine] DEBUG: Crawled (200) <GET http://rivieramaya.org.mx/hoteles/page/7/?et_blog> (referer: http://rivieramaya.org.mx/hoteles/page/6/?et_blog)\n",
      "2022-10-21 10:55:03 [scrapy.core.scraper] DEBUG: Scraped from <200 http://rivieramaya.org.mx/hoteles/page/7/?et_blog>\r\n",
      "{'links': ['http://rivieramaya.org.mx/91-maya-inn/', 'http://rivieramaya.org.mx/92-mayan-palace/', 'http://rivieramaya.org.mx/93-mistik-getaways-resorts/', 'http://rivieramaya.org.mx/94-mungata-boutique-hotel/', 'http://rivieramaya.org.mx/95-newport-house-playa/', 'http://rivieramaya.org.mx/96-occidental-at-xcaret-destination/', 'http://rivieramaya.org.mx/97-ocean-breeze/', 'http://rivieramaya.org.mx/98-ocean-maya-royale/', 'http://rivieramaya.org.mx/99-ocean-riviera-paradise/', 'http://rivieramaya.org.mx/100-one-playa-del-carmen/', 'http://rivieramaya.org.mx/101-2/', 'http://rivieramaya.org.mx/102-2/', 'http://rivieramaya.org.mx/103-2/', 'http://rivieramaya.org.mx/104-2/', 'http://rivieramaya.org.mx/105-2/']}\n",
      "2022-10-21 10:55:03 [scrapy.core.engine] DEBUG: Crawled (200) <GET http://rivieramaya.org.mx/hoteles/page/8/?et_blog> (referer: http://rivieramaya.org.mx/hoteles/page/7/?et_blog)\n",
      "2022-10-21 10:55:03 [scrapy.core.scraper] DEBUG: Scraped from <200 http://rivieramaya.org.mx/hoteles/page/8/?et_blog>\r\n",
      "{'links': ['http://rivieramaya.org.mx/106-2/', 'http://rivieramaya.org.mx/107-2/', 'http://rivieramaya.org.mx/108-2/', 'http://rivieramaya.org.mx/109-2/', 'http://rivieramaya.org.mx/110-2/', 'http://rivieramaya.org.mx/111-2/', 'http://rivieramaya.org.mx/112-2/', 'http://rivieramaya.org.mx/113-2/', 'http://rivieramaya.org.mx/riu-lupita/', 'http://rivieramaya.org.mx/riu-palace-mexico/', 'http://rivieramaya.org.mx/riu-palace-riviera-maya/', 'http://rivieramaya.org.mx/riu-playacar/', 'http://rivieramaya.org.mx/riu-tequila/', 'http://rivieramaya.org.mx/riu-yucatan/', 'http://rivieramaya.org.mx/114-2/']}\n",
      "2022-10-21 10:55:03 [scrapy.core.engine] DEBUG: Crawled (200) <GET http://rivieramaya.org.mx/hoteles/page/9/?et_blog> (referer: http://rivieramaya.org.mx/hoteles/page/8/?et_blog)\n",
      "2022-10-21 10:55:03 [scrapy.core.scraper] DEBUG: Scraped from <200 http://rivieramaya.org.mx/hoteles/page/9/?et_blog>\r\n",
      "{'links': ['http://rivieramaya.org.mx/115-2/', 'http://rivieramaya.org.mx/116-2/', 'http://rivieramaya.org.mx/117-2/', 'http://rivieramaya.org.mx/118-2/', 'http://rivieramaya.org.mx/119-2/', 'http://rivieramaya.org.mx/120-2/', 'http://rivieramaya.org.mx/121-2/', 'http://rivieramaya.org.mx/sensira-resert-spa-riviera-maya/', 'http://rivieramaya.org.mx/122-2/', 'http://rivieramaya.org.mx/123-2/', 'http://rivieramaya.org.mx/124-2/', 'http://rivieramaya.org.mx/125-2/', 'http://rivieramaya.org.mx/126-2/', 'http://rivieramaya.org.mx/127-2/', 'http://rivieramaya.org.mx/128-2/']}\n",
      "2022-10-21 10:55:03 [scrapy.core.engine] DEBUG: Crawled (200) <GET http://rivieramaya.org.mx/hoteles/page/10/?et_blog> (referer: http://rivieramaya.org.mx/hoteles/page/9/?et_blog)\n",
      "2022-10-21 10:55:03 [scrapy.core.scraper] DEBUG: Scraped from <200 http://rivieramaya.org.mx/hoteles/page/10/?et_blog>\r\n",
      "{'links': ['http://rivieramaya.org.mx/129-2/', 'http://rivieramaya.org.mx/130-2/', 'http://rivieramaya.org.mx/131-2/', 'http://rivieramaya.org.mx/132-2/', 'http://rivieramaya.org.mx/133-2/', 'http://rivieramaya.org.mx/134-2/', 'http://rivieramaya.org.mx/135-2/', 'http://rivieramaya.org.mx/136-2/', 'http://rivieramaya.org.mx/137-2/', 'http://rivieramaya.org.mx/138-2/', 'http://rivieramaya.org.mx/139-2/', 'http://rivieramaya.org.mx/140-2/', 'http://rivieramaya.org.mx/141-2/', 'http://rivieramaya.org.mx/142-2/']}\n",
      "2022-10-21 10:55:03 [scrapy.core.engine] INFO: Closing spider (finished)\n",
      "2022-10-21 10:55:03 [scrapy.extensions.feedexport] INFO: Stored json feed (10 items) in: riviera.json\n",
      "2022-10-21 10:55:03 [scrapy.statscollectors] INFO: Dumping Scrapy stats:\n",
      "{'downloader/request_bytes': 3325,\n",
      " 'downloader/request_count': 11,\n",
      " 'downloader/request_method_count/GET': 11,\n",
      " 'downloader/response_bytes': 190228,\n",
      " 'downloader/response_count': 11,\n",
      " 'downloader/response_status_count/200': 11,\n",
      " 'elapsed_time_seconds': 3.988333,\n",
      " 'feedexport/success_count/FileFeedStorage': 1,\n",
      " 'finish_reason': 'finished',\n",
      " 'finish_time': datetime.datetime(2022, 10, 21, 15, 55, 3, 977064),\n",
      " 'httpcompression/response_bytes': 871996,\n",
      " 'httpcompression/response_count': 11,\n",
      " 'item_scraped_count': 10,\n",
      " 'log_count/DEBUG': 22,\n",
      " 'log_count/INFO': 11,\n",
      " 'log_count/WARNING': 2,\n",
      " 'request_depth_max': 9,\n",
      " 'response_received_count': 11,\n",
      " 'robotstxt/request_count': 1,\n",
      " 'robotstxt/response_count': 1,\n",
      " 'robotstxt/response_status_count/200': 1,\n",
      " 'scheduler/dequeued': 10,\n",
      " 'scheduler/dequeued/memory': 10,\n",
      " 'scheduler/enqueued': 10,\n",
      " 'scheduler/enqueued/memory': 10,\n",
      " 'start_time': datetime.datetime(2022, 10, 21, 15, 54, 59, 988731)}\n",
      "2022-10-21 10:55:03 [scrapy.core.engine] INFO: Spider closed (finished)\n"
     ]
    }
   ],
   "source": [
    "process = CrawlerProcess({\n",
    "    'USER_AGENT': 'Mozilla/4.0 (compatible; MSIE 7.0; Windows NT 5.1)'\n",
    "})\n",
    "\n",
    "process.crawl(Merli)\n",
    "process.start()"
   ],
   "metadata": {
    "collapsed": false
   }
  },
  {
   "cell_type": "code",
   "execution_count": 5,
   "outputs": [],
   "source": [
    "import json"
   ],
   "metadata": {
    "collapsed": false
   }
  },
  {
   "cell_type": "code",
   "execution_count": 6,
   "outputs": [],
   "source": [
    "f = open('riviera.json')\n",
    "links = json.load(f)"
   ],
   "metadata": {
    "collapsed": false
   }
  },
  {
   "cell_type": "code",
   "execution_count": 7,
   "outputs": [],
   "source": [
    "all_links = [list(x.values())[0] for x in links]"
   ],
   "metadata": {
    "collapsed": false
   }
  },
  {
   "cell_type": "code",
   "execution_count": 8,
   "outputs": [
    {
     "data": {
      "text/plain": "[['http://rivieramaya.org.mx/all-riviera-resort/',\n  'http://rivieramaya.org.mx/allegro-playacar/',\n  'http://rivieramaya.org.mx/ana-y-jose-hotel-spa/',\n  'http://rivieramaya.org.mx/azul-beach-resort-riviera-maya/',\n  'http://rivieramaya.org.mx/5-banyan-tree-mayakoba/',\n  'http://rivieramaya.org.mx/6-barcelo-maya-caribe/',\n  'http://rivieramaya.org.mx/7-barcelo-maya-colonial/',\n  'http://rivieramaya.org.mx/8-barcelo-maya-palace-deluxe/',\n  'http://rivieramaya.org.mx/9-barcelo-maya-tropical/',\n  'http://rivieramaya.org.mx/10-barcelo-maya-tropical-beach/',\n  'http://rivieramaya.org.mx/11-barrio-latino-hotel/',\n  'http://rivieramaya.org.mx/12-belmond-maroma-resort-spa/',\n  'http://rivieramaya.org.mx/13-blue-bay-grand-esmeralda/',\n  'http://rivieramaya.org.mx/14-blue-diamond-riviera-maya/',\n  'http://rivieramaya.org.mx/15-calixta-hotel-boutique/'],\n ['http://rivieramaya.org.mx/16-catalonia-playa-maroma/',\n  'http://rivieramaya.org.mx/17-catalonia-riviera-maya/',\n  'http://rivieramaya.org.mx/18-catalonia-royal-tulum/',\n  'http://rivieramaya.org.mx/19-catalonia-yucatan-beach/',\n  'http://rivieramaya.org.mx/20-city-express-playa-del-carmen/',\n  'http://rivieramaya.org.mx/21-coco-rio/',\n  'http://rivieramaya.org.mx/22-condo-hotel-riviera-maya-suites/',\n  'http://rivieramaya.org.mx/23-dorado-maroma/',\n  'http://rivieramaya.org.mx/24-dreams-puerto-aventuras/',\n  'http://rivieramaya.org.mx/25-el-acuario-hotel/',\n  'http://rivieramaya.org.mx/26-el-dorado-casitas-royale/',\n  'http://rivieramaya.org.mx/31gran-palladium-colonial-resorts-spa/',\n  'http://rivieramaya.org.mx/27-el-dorado-generations-riviera-maya/',\n  'http://rivieramaya.org.mx/32-grand-bahia-principe-tulum-akumal/',\n  'http://rivieramaya.org.mx/33-grand-fifty-suites/'],\n ['http://rivieramaya.org.mx/28-el-dorado-royale-spa-resort/',\n  'http://rivieramaya.org.mx/34-grand-luxxe/',\n  'http://rivieramaya.org.mx/29-el-dorado-seaside-suites/',\n  'http://rivieramaya.org.mx/35-grand-luxxe-grupo-vidanta/',\n  'http://rivieramaya.org.mx/36-grand-palladium-kantenah/',\n  'http://rivieramaya.org.mx/37-grand-palladium-riviera-resorts-spa/',\n  'http://rivieramaya.org.mx/30-family-club-princess/',\n  'http://rivieramaya.org.mx/38-grand-palladium-the-royal-suites-yucatan/',\n  'http://rivieramaya.org.mx/39-grand-palladium-white-sand-resorts-spa/',\n  'http://rivieramaya.org.mx/40-grand-riviera-princess/',\n  'http://rivieramaya.org.mx/41-grand-sirenis-maya-beach/',\n  'http://rivieramaya.org.mx/42-grand-sirenis-riviera-maya/',\n  'http://rivieramaya.org.mx/43-grand-sunset-princess/',\n  'http://rivieramaya.org.mx/grand-sunset-princess/',\n  'http://rivieramaya.org.mx/45-grand-velas-riviera-maya/'],\n ['http://rivieramaya.org.mx/46-hacienda-paradise/',\n  'http://rivieramaya.org.mx/47-hacienda-tres-rios-resort-spa-nature-park/',\n  'http://rivieramaya.org.mx/48-hard-rock-hotel-riviera-maya/',\n  'http://rivieramaya.org.mx/49-hacienda-hidden-beach-resort/',\n  'http://rivieramaya.org.mx/50-hilton-playa-del-carmen/',\n  'http://rivieramaya.org.mx/51-hotel-aspira/',\n  'http://rivieramaya.org.mx/52-hotel-aventura-mexicana/',\n  'http://rivieramaya.org.mx/53-hotel-blue-diamond-by-blue-bay/',\n  'http://rivieramaya.org.mx/54-hotel-chable-maroma/',\n  'http://rivieramaya.org.mx/55-hotel-colibri-beach/',\n  'http://rivieramaya.org.mx/56-hotel-esencia/',\n  'http://rivieramaya.org.mx/57-hotel-fairmont-mayakoba/',\n  'http://rivieramaya.org.mx/58-hotel-hm-playa-del-carmen/',\n  'http://rivieramaya.org.mx/59-hotel-holiday-inn-express-suites/',\n  'http://rivieramaya.org.mx/60-hotel-hul-ku/'],\n ['http://rivieramaya.org.mx/61-hotel-labnah/',\n  'http://rivieramaya.org.mx/62-hotel-le-reve-spa/',\n  'http://rivieramaya.org.mx/63-hotel-lunasol/',\n  'http://rivieramaya.org.mx/64-hotel-nautilus/',\n  'http://rivieramaya.org.mx/65-hotel-nina-beach-club/',\n  'http://rivieramaya.org.mx/66-hotel-pavo-real-beach-resort-tulum/',\n  'http://rivieramaya.org.mx/67-hotel-plaza-playa/',\n  'http://rivieramaya.org.mx/68-hotel-quinto-sol/',\n  'http://rivieramaya.org.mx/69-hotel-tukan-beach-club/',\n  'http://rivieramaya.org.mx/70-hotel-xcaret-mexico/',\n  'http://rivieramaya.org.mx/71-iberostar-grand-paraiso/',\n  'http://rivieramaya.org.mx/72-iberostar-paraiso-beach/',\n  'http://rivieramaya.org.mx/73-iberostar-paraiso-del-mar/',\n  'http://rivieramaya.org.mx/74-iberostar-paraiso-lindo/',\n  'http://rivieramaya.org.mx/75-iberostar-paraiso-maya/'],\n ['http://rivieramaya.org.mx/76-iberostar-playa-paraiso/',\n  'http://rivieramaya.org.mx/77-iberostar-quetzal-tucan/',\n  'http://rivieramaya.org.mx/78-illusion-boutique-hotel/',\n  'http://rivieramaya.org.mx/79-kin-sol-soleil/',\n  'http://rivieramaya.org.mx/80-kinbe/',\n  'http://rivieramaya.org.mx/81-las-golondrinas/',\n  'http://rivieramaya.org.mx/82-las-villas-akumal/',\n  'http://rivieramaya.org.mx/83-lat-20-by-live-aqua/',\n  'http://rivieramaya.org.mx/84-live-aqua-boutique-resort/',\n  'http://rivieramaya.org.mx/85-luxury-bahia-principe-sian-kaan/',\n  'http://rivieramaya.org.mx/86-luxury-bahia-principe-coba/',\n  'http://rivieramaya.org.mx/87-mahekal-beach-resort/',\n  'http://rivieramaya.org.mx/88-maroma-resort-spa-by-orient-express/',\n  'http://rivieramaya.org.mx/89-marquee-playa-hotel/',\n  'http://rivieramaya.org.mx/90-maya-bric/'],\n ['http://rivieramaya.org.mx/91-maya-inn/',\n  'http://rivieramaya.org.mx/92-mayan-palace/',\n  'http://rivieramaya.org.mx/93-mistik-getaways-resorts/',\n  'http://rivieramaya.org.mx/94-mungata-boutique-hotel/',\n  'http://rivieramaya.org.mx/95-newport-house-playa/',\n  'http://rivieramaya.org.mx/96-occidental-at-xcaret-destination/',\n  'http://rivieramaya.org.mx/97-ocean-breeze/',\n  'http://rivieramaya.org.mx/98-ocean-maya-royale/',\n  'http://rivieramaya.org.mx/99-ocean-riviera-paradise/',\n  'http://rivieramaya.org.mx/100-one-playa-del-carmen/',\n  'http://rivieramaya.org.mx/101-2/',\n  'http://rivieramaya.org.mx/102-2/',\n  'http://rivieramaya.org.mx/103-2/',\n  'http://rivieramaya.org.mx/104-2/',\n  'http://rivieramaya.org.mx/105-2/'],\n ['http://rivieramaya.org.mx/106-2/',\n  'http://rivieramaya.org.mx/107-2/',\n  'http://rivieramaya.org.mx/108-2/',\n  'http://rivieramaya.org.mx/109-2/',\n  'http://rivieramaya.org.mx/110-2/',\n  'http://rivieramaya.org.mx/111-2/',\n  'http://rivieramaya.org.mx/112-2/',\n  'http://rivieramaya.org.mx/113-2/',\n  'http://rivieramaya.org.mx/riu-lupita/',\n  'http://rivieramaya.org.mx/riu-palace-mexico/',\n  'http://rivieramaya.org.mx/riu-palace-riviera-maya/',\n  'http://rivieramaya.org.mx/riu-playacar/',\n  'http://rivieramaya.org.mx/riu-tequila/',\n  'http://rivieramaya.org.mx/riu-yucatan/',\n  'http://rivieramaya.org.mx/114-2/'],\n ['http://rivieramaya.org.mx/115-2/',\n  'http://rivieramaya.org.mx/116-2/',\n  'http://rivieramaya.org.mx/117-2/',\n  'http://rivieramaya.org.mx/118-2/',\n  'http://rivieramaya.org.mx/119-2/',\n  'http://rivieramaya.org.mx/120-2/',\n  'http://rivieramaya.org.mx/121-2/',\n  'http://rivieramaya.org.mx/sensira-resert-spa-riviera-maya/',\n  'http://rivieramaya.org.mx/122-2/',\n  'http://rivieramaya.org.mx/123-2/',\n  'http://rivieramaya.org.mx/124-2/',\n  'http://rivieramaya.org.mx/125-2/',\n  'http://rivieramaya.org.mx/126-2/',\n  'http://rivieramaya.org.mx/127-2/',\n  'http://rivieramaya.org.mx/128-2/'],\n ['http://rivieramaya.org.mx/129-2/',\n  'http://rivieramaya.org.mx/130-2/',\n  'http://rivieramaya.org.mx/131-2/',\n  'http://rivieramaya.org.mx/132-2/',\n  'http://rivieramaya.org.mx/133-2/',\n  'http://rivieramaya.org.mx/134-2/',\n  'http://rivieramaya.org.mx/135-2/',\n  'http://rivieramaya.org.mx/136-2/',\n  'http://rivieramaya.org.mx/137-2/',\n  'http://rivieramaya.org.mx/138-2/',\n  'http://rivieramaya.org.mx/139-2/',\n  'http://rivieramaya.org.mx/140-2/',\n  'http://rivieramaya.org.mx/141-2/',\n  'http://rivieramaya.org.mx/142-2/']]"
     },
     "execution_count": 8,
     "metadata": {},
     "output_type": "execute_result"
    }
   ],
   "source": [
    "all_links"
   ],
   "metadata": {
    "collapsed": false
   }
  },
  {
   "cell_type": "code",
   "execution_count": 9,
   "outputs": [],
   "source": [
    "import numpy as np\n",
    "import pandas as pd"
   ],
   "metadata": {
    "collapsed": false
   }
  },
  {
   "cell_type": "code",
   "execution_count": 10,
   "outputs": [],
   "source": [
    "final_links = [i for j in all_links for i in j]"
   ],
   "metadata": {
    "collapsed": false
   }
  },
  {
   "cell_type": "code",
   "execution_count": 11,
   "outputs": [
    {
     "data": {
      "text/plain": "['http://rivieramaya.org.mx/all-riviera-resort/',\n 'http://rivieramaya.org.mx/allegro-playacar/',\n 'http://rivieramaya.org.mx/ana-y-jose-hotel-spa/',\n 'http://rivieramaya.org.mx/azul-beach-resort-riviera-maya/',\n 'http://rivieramaya.org.mx/5-banyan-tree-mayakoba/',\n 'http://rivieramaya.org.mx/6-barcelo-maya-caribe/',\n 'http://rivieramaya.org.mx/7-barcelo-maya-colonial/',\n 'http://rivieramaya.org.mx/8-barcelo-maya-palace-deluxe/',\n 'http://rivieramaya.org.mx/9-barcelo-maya-tropical/',\n 'http://rivieramaya.org.mx/10-barcelo-maya-tropical-beach/',\n 'http://rivieramaya.org.mx/11-barrio-latino-hotel/',\n 'http://rivieramaya.org.mx/12-belmond-maroma-resort-spa/',\n 'http://rivieramaya.org.mx/13-blue-bay-grand-esmeralda/',\n 'http://rivieramaya.org.mx/14-blue-diamond-riviera-maya/',\n 'http://rivieramaya.org.mx/15-calixta-hotel-boutique/',\n 'http://rivieramaya.org.mx/16-catalonia-playa-maroma/',\n 'http://rivieramaya.org.mx/17-catalonia-riviera-maya/',\n 'http://rivieramaya.org.mx/18-catalonia-royal-tulum/',\n 'http://rivieramaya.org.mx/19-catalonia-yucatan-beach/',\n 'http://rivieramaya.org.mx/20-city-express-playa-del-carmen/',\n 'http://rivieramaya.org.mx/21-coco-rio/',\n 'http://rivieramaya.org.mx/22-condo-hotel-riviera-maya-suites/',\n 'http://rivieramaya.org.mx/23-dorado-maroma/',\n 'http://rivieramaya.org.mx/24-dreams-puerto-aventuras/',\n 'http://rivieramaya.org.mx/25-el-acuario-hotel/',\n 'http://rivieramaya.org.mx/26-el-dorado-casitas-royale/',\n 'http://rivieramaya.org.mx/31gran-palladium-colonial-resorts-spa/',\n 'http://rivieramaya.org.mx/27-el-dorado-generations-riviera-maya/',\n 'http://rivieramaya.org.mx/32-grand-bahia-principe-tulum-akumal/',\n 'http://rivieramaya.org.mx/33-grand-fifty-suites/',\n 'http://rivieramaya.org.mx/28-el-dorado-royale-spa-resort/',\n 'http://rivieramaya.org.mx/34-grand-luxxe/',\n 'http://rivieramaya.org.mx/29-el-dorado-seaside-suites/',\n 'http://rivieramaya.org.mx/35-grand-luxxe-grupo-vidanta/',\n 'http://rivieramaya.org.mx/36-grand-palladium-kantenah/',\n 'http://rivieramaya.org.mx/37-grand-palladium-riviera-resorts-spa/',\n 'http://rivieramaya.org.mx/30-family-club-princess/',\n 'http://rivieramaya.org.mx/38-grand-palladium-the-royal-suites-yucatan/',\n 'http://rivieramaya.org.mx/39-grand-palladium-white-sand-resorts-spa/',\n 'http://rivieramaya.org.mx/40-grand-riviera-princess/',\n 'http://rivieramaya.org.mx/41-grand-sirenis-maya-beach/',\n 'http://rivieramaya.org.mx/42-grand-sirenis-riviera-maya/',\n 'http://rivieramaya.org.mx/43-grand-sunset-princess/',\n 'http://rivieramaya.org.mx/grand-sunset-princess/',\n 'http://rivieramaya.org.mx/45-grand-velas-riviera-maya/',\n 'http://rivieramaya.org.mx/46-hacienda-paradise/',\n 'http://rivieramaya.org.mx/47-hacienda-tres-rios-resort-spa-nature-park/',\n 'http://rivieramaya.org.mx/48-hard-rock-hotel-riviera-maya/',\n 'http://rivieramaya.org.mx/49-hacienda-hidden-beach-resort/',\n 'http://rivieramaya.org.mx/50-hilton-playa-del-carmen/',\n 'http://rivieramaya.org.mx/51-hotel-aspira/',\n 'http://rivieramaya.org.mx/52-hotel-aventura-mexicana/',\n 'http://rivieramaya.org.mx/53-hotel-blue-diamond-by-blue-bay/',\n 'http://rivieramaya.org.mx/54-hotel-chable-maroma/',\n 'http://rivieramaya.org.mx/55-hotel-colibri-beach/',\n 'http://rivieramaya.org.mx/56-hotel-esencia/',\n 'http://rivieramaya.org.mx/57-hotel-fairmont-mayakoba/',\n 'http://rivieramaya.org.mx/58-hotel-hm-playa-del-carmen/',\n 'http://rivieramaya.org.mx/59-hotel-holiday-inn-express-suites/',\n 'http://rivieramaya.org.mx/60-hotel-hul-ku/',\n 'http://rivieramaya.org.mx/61-hotel-labnah/',\n 'http://rivieramaya.org.mx/62-hotel-le-reve-spa/',\n 'http://rivieramaya.org.mx/63-hotel-lunasol/',\n 'http://rivieramaya.org.mx/64-hotel-nautilus/',\n 'http://rivieramaya.org.mx/65-hotel-nina-beach-club/',\n 'http://rivieramaya.org.mx/66-hotel-pavo-real-beach-resort-tulum/',\n 'http://rivieramaya.org.mx/67-hotel-plaza-playa/',\n 'http://rivieramaya.org.mx/68-hotel-quinto-sol/',\n 'http://rivieramaya.org.mx/69-hotel-tukan-beach-club/',\n 'http://rivieramaya.org.mx/70-hotel-xcaret-mexico/',\n 'http://rivieramaya.org.mx/71-iberostar-grand-paraiso/',\n 'http://rivieramaya.org.mx/72-iberostar-paraiso-beach/',\n 'http://rivieramaya.org.mx/73-iberostar-paraiso-del-mar/',\n 'http://rivieramaya.org.mx/74-iberostar-paraiso-lindo/',\n 'http://rivieramaya.org.mx/75-iberostar-paraiso-maya/',\n 'http://rivieramaya.org.mx/76-iberostar-playa-paraiso/',\n 'http://rivieramaya.org.mx/77-iberostar-quetzal-tucan/',\n 'http://rivieramaya.org.mx/78-illusion-boutique-hotel/',\n 'http://rivieramaya.org.mx/79-kin-sol-soleil/',\n 'http://rivieramaya.org.mx/80-kinbe/',\n 'http://rivieramaya.org.mx/81-las-golondrinas/',\n 'http://rivieramaya.org.mx/82-las-villas-akumal/',\n 'http://rivieramaya.org.mx/83-lat-20-by-live-aqua/',\n 'http://rivieramaya.org.mx/84-live-aqua-boutique-resort/',\n 'http://rivieramaya.org.mx/85-luxury-bahia-principe-sian-kaan/',\n 'http://rivieramaya.org.mx/86-luxury-bahia-principe-coba/',\n 'http://rivieramaya.org.mx/87-mahekal-beach-resort/',\n 'http://rivieramaya.org.mx/88-maroma-resort-spa-by-orient-express/',\n 'http://rivieramaya.org.mx/89-marquee-playa-hotel/',\n 'http://rivieramaya.org.mx/90-maya-bric/',\n 'http://rivieramaya.org.mx/91-maya-inn/',\n 'http://rivieramaya.org.mx/92-mayan-palace/',\n 'http://rivieramaya.org.mx/93-mistik-getaways-resorts/',\n 'http://rivieramaya.org.mx/94-mungata-boutique-hotel/',\n 'http://rivieramaya.org.mx/95-newport-house-playa/',\n 'http://rivieramaya.org.mx/96-occidental-at-xcaret-destination/',\n 'http://rivieramaya.org.mx/97-ocean-breeze/',\n 'http://rivieramaya.org.mx/98-ocean-maya-royale/',\n 'http://rivieramaya.org.mx/99-ocean-riviera-paradise/',\n 'http://rivieramaya.org.mx/100-one-playa-del-carmen/',\n 'http://rivieramaya.org.mx/101-2/',\n 'http://rivieramaya.org.mx/102-2/',\n 'http://rivieramaya.org.mx/103-2/',\n 'http://rivieramaya.org.mx/104-2/',\n 'http://rivieramaya.org.mx/105-2/',\n 'http://rivieramaya.org.mx/106-2/',\n 'http://rivieramaya.org.mx/107-2/',\n 'http://rivieramaya.org.mx/108-2/',\n 'http://rivieramaya.org.mx/109-2/',\n 'http://rivieramaya.org.mx/110-2/',\n 'http://rivieramaya.org.mx/111-2/',\n 'http://rivieramaya.org.mx/112-2/',\n 'http://rivieramaya.org.mx/113-2/',\n 'http://rivieramaya.org.mx/riu-lupita/',\n 'http://rivieramaya.org.mx/riu-palace-mexico/',\n 'http://rivieramaya.org.mx/riu-palace-riviera-maya/',\n 'http://rivieramaya.org.mx/riu-playacar/',\n 'http://rivieramaya.org.mx/riu-tequila/',\n 'http://rivieramaya.org.mx/riu-yucatan/',\n 'http://rivieramaya.org.mx/114-2/',\n 'http://rivieramaya.org.mx/115-2/',\n 'http://rivieramaya.org.mx/116-2/',\n 'http://rivieramaya.org.mx/117-2/',\n 'http://rivieramaya.org.mx/118-2/',\n 'http://rivieramaya.org.mx/119-2/',\n 'http://rivieramaya.org.mx/120-2/',\n 'http://rivieramaya.org.mx/121-2/',\n 'http://rivieramaya.org.mx/sensira-resert-spa-riviera-maya/',\n 'http://rivieramaya.org.mx/122-2/',\n 'http://rivieramaya.org.mx/123-2/',\n 'http://rivieramaya.org.mx/124-2/',\n 'http://rivieramaya.org.mx/125-2/',\n 'http://rivieramaya.org.mx/126-2/',\n 'http://rivieramaya.org.mx/127-2/',\n 'http://rivieramaya.org.mx/128-2/',\n 'http://rivieramaya.org.mx/129-2/',\n 'http://rivieramaya.org.mx/130-2/',\n 'http://rivieramaya.org.mx/131-2/',\n 'http://rivieramaya.org.mx/132-2/',\n 'http://rivieramaya.org.mx/133-2/',\n 'http://rivieramaya.org.mx/134-2/',\n 'http://rivieramaya.org.mx/135-2/',\n 'http://rivieramaya.org.mx/136-2/',\n 'http://rivieramaya.org.mx/137-2/',\n 'http://rivieramaya.org.mx/138-2/',\n 'http://rivieramaya.org.mx/139-2/',\n 'http://rivieramaya.org.mx/140-2/',\n 'http://rivieramaya.org.mx/141-2/',\n 'http://rivieramaya.org.mx/142-2/']"
     },
     "execution_count": 11,
     "metadata": {},
     "output_type": "execute_result"
    }
   ],
   "source": [
    "final_links"
   ],
   "metadata": {
    "collapsed": false
   }
  },
  {
   "cell_type": "code",
   "execution_count": 16,
   "outputs": [],
   "source": [
    "f = open('link_hoteles.txt', 'w')\n",
    "for i in final_links:\n",
    "    f.write(i)\n",
    "    f.write(\"\\n\")\n",
    "f.close()"
   ],
   "metadata": {
    "collapsed": false
   }
  }
 ],
 "metadata": {
  "kernelspec": {
   "display_name": "Python 3",
   "language": "python",
   "name": "python3"
  },
  "language_info": {
   "codemirror_mode": {
    "name": "ipython",
    "version": 2
   },
   "file_extension": ".py",
   "mimetype": "text/x-python",
   "name": "python",
   "nbconvert_exporter": "python",
   "pygments_lexer": "ipython2",
   "version": "2.7.6"
  }
 },
 "nbformat": 4,
 "nbformat_minor": 0
}
